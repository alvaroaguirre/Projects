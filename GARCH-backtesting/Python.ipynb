{
 "cells": [
  {
   "cell_type": "markdown",
   "metadata": {},
   "source": [
    "# Backtest benchmark\n",
    "\n",
    "In this notebook we will perform GARCH backtesting with Python to test speed and accuracy.\n",
    "\n",
    "## Single timed backtest"
   ]
  },
  {
   "cell_type": "code",
   "execution_count": 1,
   "metadata": {},
   "outputs": [],
   "source": [
    "# Load data in Python\n",
    "\n",
    "import numpy as np\n",
    "\n",
    "price = np.loadtxt('index.csv',delimiter=',',skiprows=1)\n",
    "\n",
    "y = np.diff(np.log(price), n=1, axis=0) "
   ]
  },
  {
   "cell_type": "code",
   "execution_count": 2,
   "metadata": {},
   "outputs": [],
   "source": [
    "# Set backtest up in Python\n",
    "\n",
    "T = len(y)                   # number of obs for y\n",
    "p = 0.01                     # probability\n",
    "value = 1                    # portfolio value\n",
    "VaR = np.full(T, np.nan) # matrix for forecasts"
   ]
  },
  {
   "cell_type": "code",
   "execution_count": 34,
   "metadata": {},
   "outputs": [],
   "source": [
    "# Running backtest in Python\n",
    "\n",
    "from scipy import stats\n",
    "from arch import arch_model\n",
    "\n",
    "def backtest(WE):\n",
    "    VaR = np.full(T, np.nan)\n",
    "    for t in range(WE, T): \n",
    "        t1 = t - WE           # start of data window\n",
    "        t2 = t - 1            # end of data window\n",
    "        window = y[t1:t2+1]   # data for estimation\n",
    "\n",
    "\n",
    "        am = arch_model(window, mean = 'Zero',vol = 'Garch',\n",
    "                        p = 1, o = 0, q = 1, dist = 'Normal', rescale = False)\n",
    "        res = am.fit(update_freq=0, disp = 'off', show_warning=False)\n",
    "        par = [res.params[0], res.params[1], res.params[2]]\n",
    "        s4 = par[0] + par[1] * window[WE - 1]**2 + par[\n",
    "            2] * res.conditional_volatility[-1]**2\n",
    "        VaR[t] = -np.sqrt(s4) * stats.norm.ppf(p) * value \n",
    "    return(VaR)"
   ]
  },
  {
   "cell_type": "code",
   "execution_count": 35,
   "metadata": {},
   "outputs": [
    {
     "name": "stdout",
     "output_type": "stream",
     "text": [
      "Time elapsed for one iteration using WE = 2000: 49.98308706283569 seconds\n"
     ]
    }
   ],
   "source": [
    "# Benchmark\n",
    "\n",
    "import time\n",
    "\n",
    "start_time = time.time()\n",
    "VaR_results = backtest(WE = 2000)\n",
    "elapsed = time.time() - start_time\n",
    "print(\"Time elapsed for one iteration using WE = 2000:\", elapsed, \"seconds\")"
   ]
  },
  {
   "cell_type": "code",
   "execution_count": 36,
   "metadata": {},
   "outputs": [],
   "source": [
    "# Export results\n",
    "np.savetxt(\"python_backtest_results.csv\", VaR_results, delimiter=\",\")"
   ]
  },
  {
   "cell_type": "markdown",
   "metadata": {},
   "source": [
    "## Get average of N backtests using WE = 2000"
   ]
  },
  {
   "cell_type": "code",
   "execution_count": 42,
   "metadata": {},
   "outputs": [],
   "source": [
    "# Average simulation time\n",
    "N = 10\n",
    "WE_2000 = np.full(N, np.nan)\n",
    "for i in range(N):\n",
    "    start_time = time.time()\n",
    "    backtest(WE = 2000)\n",
    "    WE_2000[i] = time.time() - start_time"
   ]
  },
  {
   "cell_type": "code",
   "execution_count": 46,
   "metadata": {},
   "outputs": [
    {
     "name": "stdout",
     "output_type": "stream",
     "text": [
      "Average time elapsed for 10 iterations using WE = 2000: 43.00818808078766 seconds\n"
     ]
    }
   ],
   "source": [
    "print(\"Average time elapsed for\", N, \"iterations using WE = 2000:\", np.mean(WE_2000), \"seconds\")"
   ]
  }
 ],
 "metadata": {
  "kernelspec": {
   "display_name": "Python 3",
   "language": "python",
   "name": "python3"
  },
  "language_info": {
   "codemirror_mode": {
    "name": "ipython",
    "version": 3
   },
   "file_extension": ".py",
   "mimetype": "text/x-python",
   "name": "python",
   "nbconvert_exporter": "python",
   "pygments_lexer": "ipython3",
   "version": "3.7.6"
  }
 },
 "nbformat": 4,
 "nbformat_minor": 4
}
