{
 "cells": [
  {
   "cell_type": "markdown",
   "metadata": {},
   "source": [
    "# Random chord of the day\n",
    "\n",
    "In this project, I want a new chord to be randomly generated every day and sent to my email, with information of the chord type, every note in it, and the shape on the guitar."
   ]
  },
  {
   "cell_type": "code",
   "execution_count": 112,
   "metadata": {},
   "outputs": [],
   "source": [
    "# Prepare the functions to create the random chord\n",
    "chromatic = [\"A\", \"A#\", \"B\", \"C\", \"C#\", \"D\", \"D#\", \"E\", \"F\", \"F#\", \"G\", \"G#\"]\n",
    "\n",
    "def scale(root):\n",
    "    \"\"\"Returns the major scale of the root note\"\"\"\n",
    "    root_pos = chromatic.index(root)\n",
    "    reorder = chromatic[root_pos:len(chromatic)] + chromatic[0:root_pos]\n",
    "    scale_pos = [0,2,4,5,7,9,11]\n",
    "    major = [reorder[i] for i in scale_pos]\n",
    "    return(major)\n",
    "    \n",
    "def sharp(note):\n",
    "    \"\"\"Returns the note sharp\"\"\"\n",
    "    position = chromatic.index(note)\n",
    "    if position == len(chromatic)-1:\n",
    "        return(chromatic[0])\n",
    "    else:\n",
    "        return(chromatic[position+1])\n",
    "    \n",
    "def flat(note):\n",
    "    \"\"\"Returns the note flatted\"\"\"\n",
    "    position = chromatic.index(note)\n",
    "    if position == 0:\n",
    "        return(chromatic[-1])\n",
    "    else:\n",
    "        return(chromatic[position-1])\n",
    "    \n",
    "    \n",
    "def get_notes(root, positions):\n",
    "    \"\"\"Given a list of positions, returns the notes\"\"\"\n",
    "    notes = []\n",
    "    major = scale(root)\n",
    "    if isinstance(positions,list) != True:\n",
    "        positions = [positions]\n",
    "    for pos in positions:\n",
    "        if \"b\" in str(pos):\n",
    "            pos = int(pos.replace(\"b\",\"\"))\n",
    "            if (pos > 7):\n",
    "                pos = pos % 7\n",
    "            notes.append(flat(major[pos-1]))\n",
    "        elif \"#\" in str(pos):\n",
    "            pos = int(pos.replace(\"#\",\"\"))\n",
    "            if (pos > 7):\n",
    "                pos = pos % 7\n",
    "            notes.append(sharp(major[pos-1]))\n",
    "        else:\n",
    "            if (pos > 7):\n",
    "                pos = pos % 7\n",
    "            notes.append(major[pos-1])\n",
    "    return(notes)\n",
    "\n",
    "def in_string(note, string_note):\n",
    "    \"\"\"Finds fret on a string\"\"\"\n",
    "    # First reorder the chromatic scale so it starts on the string_note\n",
    "    note_pos = chromatic.index(string_note)\n",
    "    reorder = chromatic[note_pos:len(chromatic)] + chromatic[0:note_pos]\n",
    "    # Now get the position of the note\n",
    "    return(reorder.index(note))"
   ]
  },
  {
   "cell_type": "code",
   "execution_count": 137,
   "metadata": {},
   "outputs": [
    {
     "data": {
      "text/plain": [
       "1"
      ]
     },
     "execution_count": 137,
     "metadata": {},
     "output_type": "execute_result"
    }
   ],
   "source": [
    "a = [1,2,3]\n",
    "a.index(2)"
   ]
  },
  {
   "cell_type": "code",
   "execution_count": 80,
   "metadata": {},
   "outputs": [],
   "source": [
    "# Create a complete dictionary with the type of chords and its construction\n",
    "\n",
    "chords = {\n",
    "    # Major chords\n",
    "    \"maj\": [1,3,5],\n",
    "    \"majb5\": [1,3,\"b5\"],\n",
    "    \"add9\": [1,3,5,9],\n",
    "    \"+, aug\": [1,3,\"#5\"],\n",
    "    \"6\": [1,3,5,6],\n",
    "    \"6add9\": [1,3,5,6,9],\n",
    "    \"maj7\": [1,3,5,7],\n",
    "    \"maj7b5\": [1,3,\"b5\", 7],\n",
    "    \"maj7#11\": [1,3,5,7,\"#11\"],\n",
    "    \"maj9\": [1,3,5,7,9],\n",
    "    \"maj9#5\": [1,3,\"#5\",7,9],\n",
    "    \"maj9#11\": [1,3,5,7,9,\"#11\"],\n",
    "    \"maj11\": [1,3,5,7,9,11],\n",
    "    \"maj13\": [1,3,5,7,9,13],\n",
    "\n",
    "    # Minor chords\n",
    "    \"m\": [1, \"b3\", 5],\n",
    "    \"mb5\": [1, \"b3\", \"b5\"],\n",
    "    \"madd9\": [1, \"b3\", 5, 9],\n",
    "    \"m6\": [1, \"b3\", 5, 6],\n",
    "    \"m6add9\": [1, \"b3\", 5,6,9],\n",
    "    \"m7\": [1, \"b3\", 5, \"b7\"],\n",
    "    \"m7b5\": [1, \"b3\", \"b5\", \"b7\"],\n",
    "    \"m7b9\": [1, \"b3\", 5, \"b7\", \"b9\"],\n",
    "    \"m7add11\": [1, \"b3\", 5, \"b7\", 11],\n",
    "    \"m(maj7)\": [1, \"b3\", 5, 7],\n",
    "    \"m9\": [1, \"b3\", 5, \"b7\", 9],\n",
    "    \"m9b5\": [1, \"b3\", \"b5\", \"b7\", 9],\n",
    "    \"m9(maj7)\": [1, \"b3\", 5, 7, 9],\n",
    "    \"m11\": [1, \"b3\", 5, \"b7\", 9, 11],\n",
    "    \"m13\": [1, \"b3\", 5, \"b7\", 9, 13],\n",
    "    \n",
    "    # 7's, 9's, 11's, 13's\n",
    "    \"7\": [1, 3, 5, \"b7\"],\n",
    "    \"7sus4\": [1, 4, 5, \"b7\"],\n",
    "    \"7#5\": [1, 3, \"#5\", \"b7\"],\n",
    "    \"7b5\": [1, 3, \"b5\", \"b7\"],\n",
    "    \"7#9\": [1, 3, 5, \"b7\", \"#9\"],\n",
    "    \"7b9\": [1, 3, 5, \"b7\", \"b9\"],\n",
    "    \"7#9#5\": [1, 3, \"#5\", \"b7\", \"#9\"],\n",
    "    \"7b9#5\": [1, 3, \"#5\", \"b7\", \"b9\"],\n",
    "    \"7b9b5\": [1, 3, \"b5\", \"b7\", \"b9\"],\n",
    "    \"7add11\": [1, 3, 5, \"b7\", 11],\n",
    "    \"7#11\": [1, 3, 5, \"b7\", \"#11\"],\n",
    "    \"9\": [1, 3, 5, \"b7\", 9],\n",
    "    \"9#5\": [1, 3, \"#5\", \"b7\", 9],\n",
    "    \"9b5\": [1, 3, \"b5\", \"b7\",9],\n",
    "    \"9#11\": [1, 3, 5, \"b7\", 9, \"#11\"],\n",
    "    \"11\": [1, 3, 5, \"b7\", 9, 11],\n",
    "    \"11b9\": [1, 3, 5, \"b7\", \"b9\", 11],\n",
    "    \"13\": [1, 3, 5, \"b7\", 9, 13],\n",
    "    \"13#9\": [1, 3, 5, \"b7\", \"#9\", 13],\n",
    "    \"13b9\": [1, 3, 5, \"b7\", \"b9\", 13],\n",
    "    \"13b5b9\": [1, 3, \"b5\", \"b7\", \"b9\", 13],\n",
    "    \n",
    "    # Others\n",
    "    \"sus2\": [1,2,5],\n",
    "    \"sus4\": [1,4,5],\n",
    "    \"dim\": [1,\"b3\",\"b5\",\"b7\"]\n",
    "}"
   ]
  },
  {
   "cell_type": "code",
   "execution_count": 132,
   "metadata": {},
   "outputs": [],
   "source": [
    "import random\n",
    "def get_random_chord():\n",
    "    root = random.choice(chromatic)\n",
    "    chord = random.choice(list(chords.items()))\n",
    "    name = root + \" \" + chord[0]\n",
    "    notes = get_notes(root, chord[1])\n",
    "    random_chord = {}\n",
    "    random_chord[\"root\"] = root\n",
    "    random_chord[\"major_scale\"] = scale(root)\n",
    "    random_chord[\"name\"] = name\n",
    "    random_chord[\"notes\"] = notes\n",
    "    random_chord[\"positions\"] = chord[1]\n",
    "    return(random_chord)"
   ]
  },
  {
   "cell_type": "code",
   "execution_count": 134,
   "metadata": {},
   "outputs": [],
   "source": [
    "chord_of_day = get_random_chord()"
   ]
  },
  {
   "cell_type": "code",
   "execution_count": 136,
   "metadata": {},
   "outputs": [
    {
     "ename": "SyntaxError",
     "evalue": "EOL while scanning string literal (<ipython-input-136-ed5f596abc40>, line 1)",
     "output_type": "error",
     "traceback": [
      "\u001b[0;36m  File \u001b[0;32m\"<ipython-input-136-ed5f596abc40>\"\u001b[0;36m, line \u001b[0;32m1\u001b[0m\n\u001b[0;31m    \"The Chord of the Day is: \" + chord_of_day[\"name\"] + \"\u001b[0m\n\u001b[0m                                                          ^\u001b[0m\n\u001b[0;31mSyntaxError\u001b[0m\u001b[0;31m:\u001b[0m EOL while scanning string literal\n"
     ]
    }
   ],
   "source": [
    "message = \"\"\"\\\n",
    "Subject: Chord of the day\n",
    "\n",
    "Hi,\n",
    "\n",
    "The chord of the day is \"\"\" + chord_of_day[\"name\"] + \"\"\"\n",
    "\n",
    "The positions that construct this type of chord are: \n",
    "\"\"\" + chord_of_day[\"positions\"] + \"\"\"\n",
    "\n",
    "Its root note is \"\"\" + chord_of_day[\"root\"] + \"\"\", which has the following major scale:\n",
    "\"\"\" + chord_of_day[\"major_scale\"] + \"\"\"\n",
    "\n",
    "And the notes that compose \"\"\" + chord_of_day[\"name\"] + \"\"\" are:\n",
    "\"\"\" + chord_of_day[\"notes\"] + \"\"\"\n",
    "\n",
    "Go build it in the guitar!"
   ]
  },
  {
   "cell_type": "code",
   "execution_count": null,
   "metadata": {},
   "outputs": [],
   "source": []
  }
 ],
 "metadata": {
  "kernelspec": {
   "display_name": "Python 3",
   "language": "python",
   "name": "python3"
  },
  "language_info": {
   "codemirror_mode": {
    "name": "ipython",
    "version": 3
   },
   "file_extension": ".py",
   "mimetype": "text/x-python",
   "name": "python",
   "nbconvert_exporter": "python",
   "pygments_lexer": "ipython3",
   "version": "3.7.6"
  }
 },
 "nbformat": 4,
 "nbformat_minor": 4
}
